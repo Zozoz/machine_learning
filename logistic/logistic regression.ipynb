{
 "cells": [
  {
   "cell_type": "code",
   "execution_count": 8,
   "metadata": {
    "collapsed": false
   },
   "outputs": [],
   "source": [
    "import numpy as np\n",
    "import matplotlib.pyplot as pl6t\n",
    "%matplotlib inline"
   ]
  },
  {
   "cell_type": "code",
   "execution_count": null,
   "metadata": {
    "collapsed": true
   },
   "outputs": [],
   "source": [
    "%matplotlib inline"
   ]
  },
  {
   "cell_type": "code",
   "execution_count": 54,
   "metadata": {
    "collapsed": false
   },
   "outputs": [
    {
     "name": "stdout",
     "output_type": "stream",
     "text": [
      "[[ 34.34104113]\n",
      " [  3.15638334]\n",
      " [ -4.62552092]]\n"
     ]
    },
    {
     "data": {
      "image/png": "[encoded data removed]",
      "text/plain": [
       "<matplotlib.figure.Figure at 0x10565d6d0>"
      ]
     },
     "metadata": {},
     "output_type": "display_data"
    }
   ],
   "source": [
    "def sigmoid(x):\n",
    "    return 1.0 / (1.0 + np.exp(-x))\n",
    "\n",
    "def SGD(training_x, training_y, alpha, max_iter):\n",
    "    m, n = training_x.shape\n",
    "    theta = np.zeros((n, 1))\n",
    "    for k in xrange(max_iter):\n",
    "        for i in xrange(m):\n",
    "            h = sigmoid(training_x[i, :].dot(theta))\n",
    "            theta = theta + alpha * (training_y[0, i] - h[0, 0]) * training_x[i, :].transpose()\n",
    "    return theta\n",
    "\n",
    "def show(training_x, training_y, theta):\n",
    "    m, n = training_x.shape\n",
    "    for i in xrange(m):\n",
    "        if training_y[0, i] == 1:\n",
    "            plt.plot(training_x[i, 1], training_x[i, 2], 'ro')\n",
    "        else:\n",
    "            plt.plot(training_x[i, 1], training_x[i, 2], 'bo')\n",
    "    \n",
    "    # draw the classify line  \n",
    "    min_x = min(training_x[:, 1])[0, 0] - 1.0\n",
    "    max_x = max(training_x[:, 1])[0, 0] + 1.0\n",
    "    theta = theta.getA()  # convert mat to array  \n",
    "    y_min_x = float(-theta[0] - theta[1] * min_x) / theta[2]  \n",
    "    y_max_x = float(-theta[0] - theta[1] * max_x) / theta[2]  \n",
    "    plt.plot([min_x, max_x], [y_min_x, y_max_x], '-g')  \n",
    "    plt.xlabel('X1'); plt.ylabel('X2')  \n",
    "    plt.show()  \n",
    "\n",
    "\n",
    "def test():\n",
    "    training_x = []\n",
    "    training_y = []\n",
    "    with open('data_logistic.txt', 'r') as fp:\n",
    "        for line in fp:\n",
    "            line = line.strip().split()\n",
    "            training_x.append([1.0, float(line[0]), float(line[1])])\n",
    "            training_y.append(int(line[2]))\n",
    "    training_x = np.matrix(training_x)\n",
    "    training_y = np.matrix(training_y)\n",
    "    alpha = 0.1\n",
    "    max_iter = 1000 \n",
    "    theta = SGD(training_x, training_y, alpha, max_iter)\n",
    "    print theta\n",
    "    show(training_x, training_y, theta)\n",
    "\n",
    "    \n",
    "test()\n"
   ]
  },
  {
   "cell_type": "code",
   "execution_count": null,
   "metadata": {
    "collapsed": true
   },
   "outputs": [],
   "source": []
  }
 ],
 "metadata": {
  "kernelspec": {
   "display_name": "Python 2",
   "language": "python",
   "name": "python2"
  },
  "language_info": {
   "codemirror_mode": {
    "name": "ipython",
    "version": 2
   },
   "file_extension": ".py",
   "mimetype": "text/x-python",
   "name": "python",
   "nbconvert_exporter": "python",
   "pygments_lexer": "ipython2",
   "version": "2.7.10"
  }
 },
 "nbformat": 4,
 "nbformat_minor": 0
}
